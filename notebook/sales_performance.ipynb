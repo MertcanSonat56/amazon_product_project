{
 "cells": [
  {
   "cell_type": "code",
   "execution_count": 1,
   "id": "e7672688",
   "metadata": {},
   "outputs": [
    {
     "name": "stdout",
     "output_type": "stream",
     "text": [
      "data loaded (42675, 21)\n",
      "train shape: (34140, 8) test shape: (8535, 8)\n"
     ]
    }
   ],
   "source": [
    "import numpy as np \n",
    "import pandas as pd \n",
    "import seaborn as sns \n",
    "import matplotlib.pyplot as plt \n",
    "import os \n",
    "\n",
    "from sklearn.model_selection import train_test_split\n",
    "from sklearn.linear_model import LinearRegression\n",
    "from sklearn.ensemble import RandomForestRegressor\n",
    "from xgboost import XGBRegressor\n",
    "from sklearn.metrics import mean_squared_error, mean_absolute_error, r2_score\n",
    "\n",
    "input_path = \"../data/processed_amazon_products.csv\"\n",
    "output_dir = \"../reports/regression\"\n",
    "os.makedirs(output_dir, exist_ok=True)\n",
    "\n",
    "df = pd.read_csv(input_path)\n",
    "print(\"data loaded\", df.shape)\n",
    "df.head()\n",
    "\n",
    "\n",
    "# define features and targets\n",
    "features = [\"rating\", \"number_of_reviews\", \"current/discounted_price\", \"listed_price\", \"discount\", \"is_best_seller\", \"is_couponed\", \"is_sponsored\"]\n",
    "target = \"bought_in_last_month\"\n",
    "\n",
    "# dropna\n",
    "data = df[features + [target]].dropna()\n",
    "\n",
    "X = data[features]\n",
    "y = data[target]\n",
    "\n",
    "# train test split \n",
    "X_train, X_test, y_train, y_test = train_test_split(X, y, test_size=0.2, random_state=42)\n",
    "\n",
    "print(\"train shape:\", X_train.shape, \"test shape:\", X_test.shape)\n",
    "\n",
    "\n"
   ]
  },
  {
   "cell_type": "markdown",
   "id": "bdbf2b8d",
   "metadata": {},
   "source": [
    "1. Target Variable = bought_in_last_month → numeric sales performance\n",
    "\n",
    "2. Features\n",
    "- rating\n",
    "- number_of_reviews\n",
    "- current/discounted_price\n",
    "- listed_price\n",
    "- discount\n",
    "- is_best_seller\n",
    "- is_couponed\n",
    "- is_sponsored\n",
    "\n",
    "3. Models to Train\n",
    "- Linear Regression (baseline)\n",
    "- Random Forest Regressor (tree-based)\n",
    "- XGBoost Regressor (boosting)\n",
    "\n",
    "4. Metrics\n",
    "- RMSE (Root Mean Squared Error)\n",
    "- MAE (Mean Absolute Error)\n",
    "- R² Score\n",
    "\n",
    "\n"
   ]
  },
  {
   "cell_type": "code",
   "execution_count": null,
   "id": "bb78a273",
   "metadata": {},
   "outputs": [
    {
     "data": {
      "text/plain": [
       "['../reports/regression/xgboost.pkl']"
      ]
     },
     "execution_count": 10,
     "metadata": {},
     "output_type": "execute_result"
    }
   ],
   "source": [
    "import joblib\n",
    "\n",
    "# train evaluate models\n",
    "results = {}\n",
    "\n",
    "# Linear Regression (baseline)\n",
    "linreg = LinearRegression()\n",
    "linreg.fit(X_train, y_train)\n",
    "\n",
    "y_pred = linreg.predict(X_test)\n",
    "mse = mean_squared_error(y_test, y_pred)\n",
    "\n",
    "results[\"Linear Regression\"] = {\n",
    "    \"RMSE\": np.sqrt(mse),  \n",
    "    \"MAE\": mean_absolute_error(y_test, y_pred),\n",
    "    \"R2\": r2_score(y_test, y_pred)\n",
    "}\n",
    "joblib.dump(linreg, f\"{output_dir}/linear_regression.pkl\")\n",
    "\n",
    "# Random Forest \n",
    "rf = RandomForestRegressor(n_estimators=200, random_state=42)\n",
    "rf.fit(X_train, y_train)\n",
    "y_pred = rf.predict(X_test)\n",
    "\n",
    "mse = mean_squared_error(y_test, y_pred)\n",
    "results[\"Random Forest\"] = {\n",
    "    \"RMSE\": np.sqrt(mse),  \n",
    "    \"MAE\": mean_absolute_error(y_test, y_pred),\n",
    "    \"R2\": r2_score(y_test, y_pred)\n",
    "}\n",
    "joblib.dump(rf, f\"{output_dir}/random_forest.pkl\")\n",
    "\n",
    "# XGBoost \n",
    "xgb = XGBRegressor(n_estimators=300, learning_rate=0.1, random_state=42)\n",
    "xgb.fit(X_train, y_train)\n",
    "y_pred = xgb.predict(X_test)\n",
    "\n",
    "mse = mean_squared_error(y_test, y_pred)\n",
    "results[\"XGBoost\"] = {\n",
    "    \"RMSE\": np.sqrt(mse),  \n",
    "    \"MAE\": mean_absolute_error(y_test, y_pred),\n",
    "    \"R2\": r2_score(y_test, y_pred)\n",
    "}\n",
    "joblib.dump(xgb, f\"{output_dir}/xgboost.pkl\")\n",
    "\n"
   ]
  },
  {
   "cell_type": "code",
   "execution_count": 11,
   "id": "9e179d1c",
   "metadata": {},
   "outputs": [
    {
     "name": "stdout",
     "output_type": "stream",
     "text": [
      "Regression models trained and results saved\n"
     ]
    },
    {
     "data": {
      "text/html": [
       "<div>\n",
       "<style scoped>\n",
       "    .dataframe tbody tr th:only-of-type {\n",
       "        vertical-align: middle;\n",
       "    }\n",
       "\n",
       "    .dataframe tbody tr th {\n",
       "        vertical-align: top;\n",
       "    }\n",
       "\n",
       "    .dataframe thead th {\n",
       "        text-align: right;\n",
       "    }\n",
       "</style>\n",
       "<table border=\"1\" class=\"dataframe\">\n",
       "  <thead>\n",
       "    <tr style=\"text-align: right;\">\n",
       "      <th></th>\n",
       "      <th>RMSE</th>\n",
       "      <th>MAE</th>\n",
       "      <th>R2</th>\n",
       "    </tr>\n",
       "  </thead>\n",
       "  <tbody>\n",
       "    <tr>\n",
       "      <th>Linear Regression</th>\n",
       "      <td>5.209498e+12</td>\n",
       "      <td>7.003289e+10</td>\n",
       "      <td>-0.000031</td>\n",
       "    </tr>\n",
       "    <tr>\n",
       "      <th>Random Forest</th>\n",
       "      <td>5.224177e+12</td>\n",
       "      <td>6.061928e+10</td>\n",
       "      <td>-0.005675</td>\n",
       "    </tr>\n",
       "    <tr>\n",
       "      <th>XGBoost</th>\n",
       "      <td>5.209722e+12</td>\n",
       "      <td>5.641546e+10</td>\n",
       "      <td>-0.000117</td>\n",
       "    </tr>\n",
       "  </tbody>\n",
       "</table>\n",
       "</div>"
      ],
      "text/plain": [
       "                           RMSE           MAE        R2\n",
       "Linear Regression  5.209498e+12  7.003289e+10 -0.000031\n",
       "Random Forest      5.224177e+12  6.061928e+10 -0.005675\n",
       "XGBoost            5.209722e+12  5.641546e+10 -0.000117"
      ]
     },
     "metadata": {},
     "output_type": "display_data"
    }
   ],
   "source": [
    "# save display results\n",
    "\n",
    "# convert result to dataframe\n",
    "results_df = pd.DataFrame(results).T\n",
    "results_df.to_csv(f\"{output_dir}/regression_metrics.csv\")\n",
    "\n",
    "print(\"Regression models trained and results saved\")\n",
    "display(results_df)"
   ]
  },
  {
   "cell_type": "code",
   "execution_count": 12,
   "id": "72aa4a4e",
   "metadata": {},
   "outputs": [
    {
     "data": {
      "image/png": "[encoded data removed]",
      "text/plain": [
       "<Figure size 800x500 with 1 Axes>"
      ]
     },
     "metadata": {},
     "output_type": "display_data"
    }
   ],
   "source": [
    "# Barplot comparison\n",
    "plt.figure(figsize=(8,5))\n",
    "sns.barplot(data=results_df.reset_index().melt(id_vars=\"index\"), x=\"index\", y=\"value\", hue=\"variable\")\n",
    "plt.title(\"Model Performance Comparison\")\n",
    "plt.xlabel(\"Model\")\n",
    "plt.ylabel(\"Score\")\n",
    "plt.legend(title=\"Metric\")\n",
    "plt.savefig(f\"{output_dir}/regression_comparison.png\", dpi=300, bbox_inches=\"tight\")\n",
    "plt.show()"
   ]
  },
  {
   "cell_type": "code",
   "execution_count": null,
   "id": "86badf3a",
   "metadata": {},
   "outputs": [],
   "source": []
  }
 ],
 "metadata": {
  "kernelspec": {
   "display_name": "venv (3.13.7)",
   "language": "python",
   "name": "python3"
  },
  "language_info": {
   "codemirror_mode": {
    "name": "ipython",
    "version": 3
   },
   "file_extension": ".py",
   "mimetype": "text/x-python",
   "name": "python",
   "nbconvert_exporter": "python",
   "pygments_lexer": "ipython3",
   "version": "3.13.7"
  }
 },
 "nbformat": 4,
 "nbformat_minor": 5
}
